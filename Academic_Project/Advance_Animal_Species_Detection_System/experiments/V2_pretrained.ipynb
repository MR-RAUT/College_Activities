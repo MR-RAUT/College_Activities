{
 "cells": [
  {
   "cell_type": "code",
   "execution_count": 4,
   "metadata": {},
   "outputs": [
    {
     "name": "stderr",
     "output_type": "stream",
     "text": [
      "Using TensorFlow backend.\n"
     ]
    }
   ],
   "source": [
    "import datetime\n",
    "import os, shutil\n",
    "import time\n",
    "import matplotlib.pyplot as plt\n",
    "import scipy\n",
    "import numpy as np\n",
    "from PIL import Image\n",
    "from scipy import ndimage\n",
    "from keras.preprocessing.image import image, ImageDataGenerator, img_to_array ,array_to_img, load_img\n",
    "np.random.seed(123)"
   ]
  },
  {
   "cell_type": "code",
   "execution_count": 5,
   "metadata": {},
   "outputs": [],
   "source": [
    "# dimensions of our images.  \n",
    "img_width, img_height = 224, 224  \n",
    "   \n",
    "train_data_dir = '../data/train'  \n",
    "validation_data_dir = '../data/validation'  \n",
    "test_data_dir = '../data/test'\n",
    "   \n",
    "# number of epochs to train top model  \n",
    "epochs = 100  \n",
    "# batch size used by flow_from_directory and predict_generator  \n",
    "batch_size = 50"
   ]
  },
  {
   "cell_type": "code",
   "execution_count": 6,
   "metadata": {},
   "outputs": [],
   "source": [
    "datagen = ImageDataGenerator(rescale=1./255) "
   ]
  },
  {
   "cell_type": "code",
   "execution_count": 7,
   "metadata": {},
   "outputs": [],
   "source": [
    "from keras.applications import VGG19"
   ]
  },
  {
   "cell_type": "code",
   "execution_count": 8,
   "metadata": {},
   "outputs": [],
   "source": [
    "cnn_base = VGG19(weights='imagenet',\n",
    "                 include_top=False,\n",
    "                 input_shape=(64,64,3)\n",
    "                )"
   ]
  },
  {
   "cell_type": "code",
   "execution_count": 9,
   "metadata": {},
   "outputs": [
    {
     "name": "stdout",
     "output_type": "stream",
     "text": [
      "_________________________________________________________________\n",
      "Layer (type)                 Output Shape              Param #   \n",
      "=================================================================\n",
      "input_1 (InputLayer)         (None, 64, 64, 3)         0         \n",
      "_________________________________________________________________\n",
      "block1_conv1 (Conv2D)        (None, 64, 64, 64)        1792      \n",
      "_________________________________________________________________\n",
      "block1_conv2 (Conv2D)        (None, 64, 64, 64)        36928     \n",
      "_________________________________________________________________\n",
      "block1_pool (MaxPooling2D)   (None, 32, 32, 64)        0         \n",
      "_________________________________________________________________\n",
      "block2_conv1 (Conv2D)        (None, 32, 32, 128)       73856     \n",
      "_________________________________________________________________\n",
      "block2_conv2 (Conv2D)        (None, 32, 32, 128)       147584    \n",
      "_________________________________________________________________\n",
      "block2_pool (MaxPooling2D)   (None, 16, 16, 128)       0         \n",
      "_________________________________________________________________\n",
      "block3_conv1 (Conv2D)        (None, 16, 16, 256)       295168    \n",
      "_________________________________________________________________\n",
      "block3_conv2 (Conv2D)        (None, 16, 16, 256)       590080    \n",
      "_________________________________________________________________\n",
      "block3_conv3 (Conv2D)        (None, 16, 16, 256)       590080    \n",
      "_________________________________________________________________\n",
      "block3_conv4 (Conv2D)        (None, 16, 16, 256)       590080    \n",
      "_________________________________________________________________\n",
      "block3_pool (MaxPooling2D)   (None, 8, 8, 256)         0         \n",
      "_________________________________________________________________\n",
      "block4_conv1 (Conv2D)        (None, 8, 8, 512)         1180160   \n",
      "_________________________________________________________________\n",
      "block4_conv2 (Conv2D)        (None, 8, 8, 512)         2359808   \n",
      "_________________________________________________________________\n",
      "block4_conv3 (Conv2D)        (None, 8, 8, 512)         2359808   \n",
      "_________________________________________________________________\n",
      "block4_conv4 (Conv2D)        (None, 8, 8, 512)         2359808   \n",
      "_________________________________________________________________\n",
      "block4_pool (MaxPooling2D)   (None, 4, 4, 512)         0         \n",
      "_________________________________________________________________\n",
      "block5_conv1 (Conv2D)        (None, 4, 4, 512)         2359808   \n",
      "_________________________________________________________________\n",
      "block5_conv2 (Conv2D)        (None, 4, 4, 512)         2359808   \n",
      "_________________________________________________________________\n",
      "block5_conv3 (Conv2D)        (None, 4, 4, 512)         2359808   \n",
      "_________________________________________________________________\n",
      "block5_conv4 (Conv2D)        (None, 4, 4, 512)         2359808   \n",
      "_________________________________________________________________\n",
      "block5_pool (MaxPooling2D)   (None, 2, 2, 512)         0         \n",
      "=================================================================\n",
      "Total params: 20,024,384\n",
      "Trainable params: 20,024,384\n",
      "Non-trainable params: 0\n",
      "_________________________________________________________________\n"
     ]
    }
   ],
   "source": [
    "cnn_base.summary()"
   ]
  },
  {
   "cell_type": "code",
   "execution_count": 10,
   "metadata": {},
   "outputs": [],
   "source": [
    "def extract_features(directory, sample_amount):\n",
    "    features = np.zeros(shape=(sample_amount, 2, 2, 512)) \n",
    "    labels = np.zeros(shape=(sample_amount))\n",
    "    generator = datagen.flow_from_directory(\n",
    "        directory, \n",
    "        target_size=(64, 64), \n",
    "        batch_size = batch_size, \n",
    "        class_mode='binary',\n",
    "        shuffle=False)\n",
    "    i=0\n",
    "\n",
    "    for inputs_batch, labels_batch in generator:\n",
    "        features_batch = cnn_base.predict(inputs_batch)\n",
    "        features[i * batch_size : (i + 1) * batch_size] = features_batch \n",
    "        labels[i * batch_size : (i + 1) * batch_size] = labels_batch\n",
    "        i = i + 1\n",
    "        if i * batch_size >= sample_amount:\n",
    "            break\n",
    "    return features, labels"
   ]
  },
  {
   "cell_type": "code",
   "execution_count": 35,
   "metadata": {
    "scrolled": true
   },
   "outputs": [
    {
     "name": "stdout",
     "output_type": "stream",
     "text": [
      "Found 13412 images belonging to 6 classes.\n",
      "Found 2549 images belonging to 6 classes.\n",
      "Found 1845 images belonging to 6 classes.\n"
     ]
    }
   ],
   "source": [
    "# you should be able to divide sample_amount by batch_size!!\n",
    "train_features, train_labels = extract_features(train_data_dir, 13412) # 13412\n",
    "validation_features, validation_labels = extract_features(validation_data_dir, 2549) #2549 \n",
    "test_features, test_labels = extract_features(test_data_dir, 1845) #1845\n",
    "\n",
    "train_features = np.reshape(train_features, (13412, 2 * 2 * 512))\n",
    "validation_features = np.reshape(validation_features, (2549, 2 * 2 * 512))\n",
    "test_features = np.reshape(test_features, (1845, 2 * 2 * 512))"
   ]
  },
  {
   "cell_type": "code",
   "execution_count": 36,
   "metadata": {},
   "outputs": [
    {
     "data": {
      "text/plain": [
       "(1845, 2048)"
      ]
     },
     "execution_count": 36,
     "metadata": {},
     "output_type": "execute_result"
    }
   ],
   "source": [
    "test_features.shape"
   ]
  },
  {
   "cell_type": "code",
   "execution_count": 37,
   "metadata": {},
   "outputs": [
    {
     "data": {
      "text/plain": [
       "(1845,)"
      ]
     },
     "execution_count": 37,
     "metadata": {},
     "output_type": "execute_result"
    }
   ],
   "source": [
    "test_labels.shape"
   ]
  },
  {
   "cell_type": "code",
   "execution_count": 38,
   "metadata": {},
   "outputs": [],
   "source": [
    "from keras import models\n",
    "from keras import layers\n",
    "from keras import optimizers\n",
    "\n",
    "model = models.Sequential()\n",
    "\n",
    "model.add(layers.Dense(256, \n",
    "                       activation='relu', \n",
    "                       input_dim=2 * 2 * 512))\n",
    "\n",
    "model.add(layers.Dense(6, \n",
    "                       activation='softmax'))\n"
   ]
  },
  {
   "cell_type": "code",
   "execution_count": 39,
   "metadata": {},
   "outputs": [
    {
     "name": "stdout",
     "output_type": "stream",
     "text": [
      "Train on 13412 samples, validate on 2549 samples\n",
      "Epoch 1/20\n",
      "13412/13412 [==============================] - 12s 859us/step - loss: 0.9691 - acc: 0.6471 - val_loss: 0.8827 - val_acc: 0.6783\n",
      "Epoch 2/20\n",
      "13412/13412 [==============================] - 11s 785us/step - loss: 0.7639 - acc: 0.7255 - val_loss: 0.7929 - val_acc: 0.7105\n",
      "Epoch 3/20\n",
      "13412/13412 [==============================] - 11s 793us/step - loss: 0.7015 - acc: 0.7465 - val_loss: 0.7260 - val_acc: 0.7419\n",
      "Epoch 4/20\n",
      "13412/13412 [==============================] - 13s 961us/step - loss: 0.6591 - acc: 0.7616 - val_loss: 0.7410 - val_acc: 0.7387\n",
      "Epoch 5/20\n",
      "13412/13412 [==============================] - 12s 888us/step - loss: 0.6269 - acc: 0.7778 - val_loss: 0.7638 - val_acc: 0.7297\n",
      "Epoch 6/20\n",
      "13412/13412 [==============================] - 11s 819us/step - loss: 0.5990 - acc: 0.7855 - val_loss: 0.7117 - val_acc: 0.7579\n",
      "Epoch 7/20\n",
      "13412/13412 [==============================] - 11s 846us/step - loss: 0.5765 - acc: 0.7944 - val_loss: 0.7826 - val_acc: 0.7356\n",
      "Epoch 8/20\n",
      "13412/13412 [==============================] - 11s 794us/step - loss: 0.5549 - acc: 0.8020 - val_loss: 0.7482 - val_acc: 0.7434\n",
      "Epoch 9/20\n",
      "13412/13412 [==============================] - 12s 918us/step - loss: 0.5335 - acc: 0.8080 - val_loss: 0.7280 - val_acc: 0.7513\n",
      "Epoch 10/20\n",
      "13412/13412 [==============================] - 11s 838us/step - loss: 0.5171 - acc: 0.8189 - val_loss: 0.7037 - val_acc: 0.7638\n",
      "Epoch 11/20\n",
      "13412/13412 [==============================] - 13s 939us/step - loss: 0.5005 - acc: 0.8254 - val_loss: 0.7021 - val_acc: 0.7591\n",
      "Epoch 12/20\n",
      "13412/13412 [==============================] - 11s 810us/step - loss: 0.4829 - acc: 0.8289 - val_loss: 0.7265 - val_acc: 0.7536\n",
      "Epoch 13/20\n",
      "13412/13412 [==============================] - 11s 849us/step - loss: 0.4683 - acc: 0.8360 - val_loss: 0.8054 - val_acc: 0.7183\n",
      "Epoch 14/20\n",
      "13412/13412 [==============================] - 11s 805us/step - loss: 0.4519 - acc: 0.8421 - val_loss: 0.7399 - val_acc: 0.7564\n",
      "Epoch 15/20\n",
      "13412/13412 [==============================] - 13s 991us/step - loss: 0.4377 - acc: 0.8472 - val_loss: 0.7258 - val_acc: 0.7548\n",
      "Epoch 16/20\n",
      "13412/13412 [==============================] - 10s 781us/step - loss: 0.4224 - acc: 0.8510 - val_loss: 0.7279 - val_acc: 0.7670\n",
      "Epoch 17/20\n",
      "13412/13412 [==============================] - 11s 793us/step - loss: 0.4090 - acc: 0.8578 - val_loss: 0.7322 - val_acc: 0.7674\n",
      "Epoch 18/20\n",
      "13412/13412 [==============================] - 11s 795us/step - loss: 0.3934 - acc: 0.8640 - val_loss: 0.7541 - val_acc: 0.7607\n",
      "Epoch 19/20\n",
      "13412/13412 [==============================] - 11s 801us/step - loss: 0.3821 - acc: 0.8700 - val_loss: 0.7996 - val_acc: 0.7540\n",
      "Epoch 20/20\n",
      "13412/13412 [==============================] - 12s 892us/step - loss: 0.3683 - acc: 0.8765 - val_loss: 0.8286 - val_acc: 0.7415\n"
     ]
    }
   ],
   "source": [
    "model.compile(optimizer=optimizers.RMSprop(lr=1e-4),\n",
    "              loss='sparse_categorical_crossentropy',\n",
    "              metrics=['acc'])\n",
    "\n",
    "history = model.fit(train_features, \n",
    "                    train_labels,\n",
    "                    epochs=20,\n",
    "                    batch_size=10,\n",
    "                    validation_data=(validation_features, \n",
    "                                     validation_labels))"
   ]
  },
  {
   "cell_type": "code",
   "execution_count": 40,
   "metadata": {},
   "outputs": [
    {
     "name": "stdout",
     "output_type": "stream",
     "text": [
      "1845/1845 [==============================] - 0s 111us/step\n"
     ]
    },
    {
     "data": {
      "text/plain": [
       "[0.7975897805154485, 0.7387533878569358]"
      ]
     },
     "execution_count": 40,
     "metadata": {},
     "output_type": "execute_result"
    }
   ],
   "source": [
    "results_test = model.evaluate(test_features, test_labels)\n",
    "results_test"
   ]
  },
  {
   "cell_type": "code",
   "execution_count": 41,
   "metadata": {},
   "outputs": [
    {
     "data": {
      "image/png": "[encoded data removed]",
      "text/plain": [
       "<Figure size 432x288 with 1 Axes>"
      ]
     },
     "metadata": {
      "needs_background": "light"
     },
     "output_type": "display_data"
    },
    {
     "data": {
      "image/png": "[encoded data removed]",
      "text/plain": [
       "<Figure size 432x288 with 1 Axes>"
      ]
     },
     "metadata": {
      "needs_background": "light"
     },
     "output_type": "display_data"
    }
   ],
   "source": [
    "train_acc = history.history['acc']\n",
    "val_acc = history.history['val_acc']\n",
    "train_loss = history.history['loss']\n",
    "val_loss = history.history['val_loss']\n",
    "epch = range(1, len(train_acc) + 1)\n",
    "plt.plot(epch, train_acc, 'g.', label='Training Accuracy')\n",
    "plt.plot(epch, val_acc, 'g', label='Validation acc')\n",
    "plt.title('Accuracy')\n",
    "plt.legend()\n",
    "plt.figure()\n",
    "plt.plot(epch, train_loss, 'r.', label='Training loss')\n",
    "plt.plot(epch, val_loss, 'r', label='Validation loss')\n",
    "plt.title('Loss')\n",
    "plt.legend()\n",
    "plt.show()"
   ]
  },
  {
   "cell_type": "code",
   "execution_count": null,
   "metadata": {},
   "outputs": [],
   "source": []
  },
  {
   "cell_type": "code",
   "execution_count": null,
   "metadata": {},
   "outputs": [],
   "source": []
  },
  {
   "cell_type": "code",
   "execution_count": null,
   "metadata": {},
   "outputs": [],
   "source": []
  },
  {
   "cell_type": "code",
   "execution_count": null,
   "metadata": {},
   "outputs": [],
   "source": []
  },
  {
   "cell_type": "code",
   "execution_count": null,
   "metadata": {},
   "outputs": [],
   "source": []
  },
  {
   "cell_type": "code",
   "execution_count": null,
   "metadata": {},
   "outputs": [],
   "source": []
  },
  {
   "cell_type": "code",
   "execution_count": null,
   "metadata": {},
   "outputs": [],
   "source": []
  },
  {
   "cell_type": "code",
   "execution_count": null,
   "metadata": {},
   "outputs": [],
   "source": []
  },
  {
   "cell_type": "code",
   "execution_count": null,
   "metadata": {},
   "outputs": [],
   "source": []
  },
  {
   "cell_type": "code",
   "execution_count": null,
   "metadata": {},
   "outputs": [],
   "source": []
  },
  {
   "cell_type": "code",
   "execution_count": null,
   "metadata": {},
   "outputs": [],
   "source": []
  },
  {
   "cell_type": "code",
   "execution_count": null,
   "metadata": {},
   "outputs": [],
   "source": []
  },
  {
   "cell_type": "code",
   "execution_count": null,
   "metadata": {},
   "outputs": [],
   "source": []
  },
  {
   "cell_type": "code",
   "execution_count": null,
   "metadata": {},
   "outputs": [],
   "source": []
  },
  {
   "cell_type": "code",
   "execution_count": null,
   "metadata": {},
   "outputs": [],
   "source": []
  },
  {
   "cell_type": "code",
   "execution_count": null,
   "metadata": {},
   "outputs": [],
   "source": []
  },
  {
   "cell_type": "code",
   "execution_count": null,
   "metadata": {},
   "outputs": [],
   "source": []
  },
  {
   "cell_type": "code",
   "execution_count": null,
   "metadata": {},
   "outputs": [],
   "source": []
  },
  {
   "cell_type": "code",
   "execution_count": null,
   "metadata": {},
   "outputs": [],
   "source": []
  },
  {
   "cell_type": "code",
   "execution_count": null,
   "metadata": {},
   "outputs": [],
   "source": []
  },
  {
   "cell_type": "markdown",
   "metadata": {},
   "source": [
    "# Image functions"
   ]
  },
  {
   "cell_type": "code",
   "execution_count": null,
   "metadata": {},
   "outputs": [],
   "source": [
    "import matplotlib.image as mpimg"
   ]
  },
  {
   "cell_type": "code",
   "execution_count": null,
   "metadata": {},
   "outputs": [],
   "source": [
    "def read_image(file_path, resize=True):\n",
    "    image_path = file_path\n",
    "\n",
    "    orig = mpimg.imread(image_path)  \n",
    "\n",
    "    print(\"[INFO] loading and preprocessing image...\")  \n",
    "    image = load_img(image_path, target_size=(224, 224))  \n",
    "    image = img_to_array(image)  \n",
    "\n",
    "    # important! otherwise the predictions will be '0'\n",
    "    if resize:\n",
    "        image = image / 255  \n",
    "\n",
    "    image = np.expand_dims(image, axis=0)\n",
    "    return image"
   ]
  },
  {
   "cell_type": "code",
   "execution_count": null,
   "metadata": {},
   "outputs": [],
   "source": [
    "path = '../data/test/elephants/OIP-VC6pX0aP4-OEoBF2nO997wHaIS.jpeg'"
   ]
  },
  {
   "cell_type": "code",
   "execution_count": null,
   "metadata": {},
   "outputs": [],
   "source": [
    "def show_img(path):\n",
    "    img_path = path\n",
    "    img = image.load_img(img_path, target_size=(224, 224))\n",
    "    print(type(img))\n",
    "\n",
    "    x = image.img_to_array(img)\n",
    "    print(type(x))\n",
    "    print(x.shape)\n",
    "    plt.imshow(x/255.)"
   ]
  },
  {
   "cell_type": "code",
   "execution_count": null,
   "metadata": {},
   "outputs": [],
   "source": []
  }
 ],
 "metadata": {
  "kernelspec": {
   "display_name": "Python 3",
   "language": "python",
   "name": "python3"
  },
  "language_info": {
   "codemirror_mode": {
    "name": "ipython",
    "version": 3
   },
   "file_extension": ".py",
   "mimetype": "text/x-python",
   "name": "python",
   "nbconvert_exporter": "python",
   "pygments_lexer": "ipython3",
   "version": "3.6.6"
  }
 },
 "nbformat": 4,
 "nbformat_minor": 2
}
