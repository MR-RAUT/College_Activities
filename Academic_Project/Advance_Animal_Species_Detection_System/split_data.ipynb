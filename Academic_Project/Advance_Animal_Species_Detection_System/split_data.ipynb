{
 "cells": [
  {
   "cell_type": "code",
   "execution_count": 8,
   "id": "7422dbe0-cb77-4e65-88e5-cc619e071fdc",
   "metadata": {},
   "outputs": [
    {
     "name": "stdout",
     "output_type": "stream",
     "text": [
      "Collecting split-folders\n",
      "  Downloading split_folders-0.5.1-py3-none-any.whl.metadata (6.2 kB)\n",
      "Downloading split_folders-0.5.1-py3-none-any.whl (8.4 kB)\n",
      "Installing collected packages: split-folders\n",
      "Successfully installed split-folders-0.5.1\n",
      "Note: you may need to restart the kernel to use updated packages.\n"
     ]
    }
   ],
   "source": [
    "pip install split-folders"
   ]
  },
  {
   "cell_type": "code",
   "execution_count": null,
   "id": "92c1ed65-09b4-42ff-b454-45fd27a358d9",
   "metadata": {},
   "outputs": [],
   "source": [
    "# Import the package\n",
    "import splitfolders\n",
    "\n",
    "# Path of input folder\n",
    "input_folder = 'C:/Users/tejas/Downloads/Mahesh/project/images'\n",
    "\n",
    "# ratio of split is 70%, 20% and 10%\n",
    "splitfolders.ratio(input_folder, output=\"data\", seed=42, ratio=(.7, .2, .1), group_prefix = None)"
   ]
  },
  {
   "cell_type": "code",
   "execution_count": null,
   "id": "59ddd4ef-0228-4291-98f6-99bca4f3aaf5",
   "metadata": {},
   "outputs": [],
   "source": []
  }
 ],
 "metadata": {
  "kernelspec": {
   "display_name": "Python 3 (ipykernel)",
   "language": "python",
   "name": "python3"
  },
  "language_info": {
   "codemirror_mode": {
    "name": "ipython",
    "version": 3
   },
   "file_extension": ".py",
   "mimetype": "text/x-python",
   "name": "python",
   "nbconvert_exporter": "python",
   "pygments_lexer": "ipython3",
   "version": "3.10.13"
  }
 },
 "nbformat": 4,
 "nbformat_minor": 5
}
