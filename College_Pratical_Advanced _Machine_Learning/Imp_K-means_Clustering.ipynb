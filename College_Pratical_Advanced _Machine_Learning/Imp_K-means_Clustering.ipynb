{
 "cells": [
  {
   "cell_type": "markdown",
   "id": "dcc7fe70-8c67-4229-a5ec-ba7c2f1e8999",
   "metadata": {},
   "source": [
    "1. Implementing K-means Clustering."
   ]
  },
  {
   "cell_type": "code",
   "execution_count": 2,
   "id": "73671b03-3190-46b7-9384-9494f518602f",
   "metadata": {},
   "outputs": [],
   "source": [
    "# Import necessary libraries\n",
    "import pandas as pd\n",
    "from sklearn.preprocessing import StandardScaler\n",
    "from sklearn.cluster import KMeans\n",
    "import matplotlib.pyplot as plt\n",
    "import seaborn as sns\n"
   ]
  },
  {
   "cell_type": "code",
   "execution_count": 3,
   "id": "64dcace2-6d30-4eed-be41-09b7238cd9d8",
   "metadata": {},
   "outputs": [
    {
     "name": "stdout",
     "output_type": "stream",
     "text": [
      "       BALANCE  BALANCE_FREQUENCY  PURCHASES  ONEOFF_PURCHASES  \\\n",
      "0    40.900749           0.818182      95.40              0.00   \n",
      "1  3202.467416           0.909091       0.00              0.00   \n",
      "2  2495.148862           1.000000     773.17            773.17   \n",
      "3  1666.670542           0.636364    1499.00           1499.00   \n",
      "4   817.714335           1.000000      16.00             16.00   \n",
      "\n",
      "   INSTALLMENTS_PURCHASES  CASH_ADVANCE  PURCHASES_FREQUENCY  \\\n",
      "0                    95.4      0.000000             0.166667   \n",
      "1                     0.0   6442.945483             0.000000   \n",
      "2                     0.0      0.000000             1.000000   \n",
      "3                     0.0    205.788017             0.083333   \n",
      "4                     0.0      0.000000             0.083333   \n",
      "\n",
      "   ONEOFF_PURCHASES_FREQUENCY  PURCHASES_INSTALLMENTS_FREQUENCY  \\\n",
      "0                    0.000000                          0.083333   \n",
      "1                    0.000000                          0.000000   \n",
      "2                    1.000000                          0.000000   \n",
      "3                    0.083333                          0.000000   \n",
      "4                    0.083333                          0.000000   \n",
      "\n",
      "   CASH_ADVANCE_FREQUENCY  CASH_ADVANCE_TRX  PURCHASES_TRX  CREDIT_LIMIT  \\\n",
      "0                0.000000                 0              2        1000.0   \n",
      "1                0.250000                 4              0        7000.0   \n",
      "2                0.000000                 0             12        7500.0   \n",
      "3                0.083333                 1              1        7500.0   \n",
      "4                0.000000                 0              1        1200.0   \n",
      "\n",
      "      PAYMENTS  MINIMUM_PAYMENTS  PRC_FULL_PAYMENT  TENURE  \n",
      "0   201.802084        139.509787          0.000000      12  \n",
      "1  4103.032597       1072.340217          0.222222      12  \n",
      "2   622.066742        627.284787          0.000000      12  \n",
      "3     0.000000               NaN          0.000000      12  \n",
      "4   678.334763        244.791237          0.000000      12  \n"
     ]
    }
   ],
   "source": [
    "# Load the dataset (assuming the dataset is in a CSV file)\n",
    "df = pd.read_csv('data\\credit_card_data.csv')\n",
    "\n",
    "# Drop the CUST_ID column as it is just an identifier\n",
    "df = df.drop(columns=['CUST_ID'])\n",
    "\n",
    "# Display first few rows of the dataset\n",
    "print(df.head())"
   ]
  },
  {
   "cell_type": "code",
   "execution_count": 9,
   "id": "ff9c8243-8a31-47ec-9783-27a4c83f893b",
   "metadata": {},
   "outputs": [
    {
     "name": "stdout",
     "output_type": "stream",
     "text": [
      "None\n"
     ]
    }
   ],
   "source": [
    "# Handle missing values by filling them with the mean of the respective columns\n",
    "missing_Data=df.fillna(df.mean(), inplace=True)\n",
    "\n",
    "# Display first few rows of the dataset\n",
    "print(missing_Data)\n"
   ]
  },
  {
   "cell_type": "code",
   "execution_count": 10,
   "id": "8436efa2-9ab0-4efa-963d-18ed5ee9a78a",
   "metadata": {},
   "outputs": [],
   "source": [
    "# Standardize the data\n",
    "scaler = StandardScaler()\n",
    "df_scaled = scaler.fit_transform(df)\n"
   ]
  },
  {
   "cell_type": "code",
   "execution_count": 11,
   "id": "cc7bac11-3420-40ba-90b2-5704ee4a4010",
   "metadata": {},
   "outputs": [
    {
     "data": {
      "image/png": "[encoded data removed]",
      "text/plain": [
       "<Figure size 640x480 with 1 Axes>"
      ]
     },
     "metadata": {},
     "output_type": "display_data"
    }
   ],
   "source": [
    "# Use the elbow method to determine the optimal number of clusters\n",
    "wcss = []  # within-cluster sum of squares\n",
    "for i in range(1, 11):\n",
    "    kmeans = KMeans(n_clusters=i, init='k-means++', max_iter=300, n_init=10, random_state=42)\n",
    "    kmeans.fit(df_scaled)\n",
    "    wcss.append(kmeans.inertia_)\n",
    "\n",
    "# Plot the elbow graph\n",
    "plt.plot(range(1, 11), wcss)\n",
    "plt.title('Elbow Method')\n",
    "plt.xlabel('Number of clusters')\n",
    "plt.ylabel('WCSS')\n",
    "plt.show()"
   ]
  },
  {
   "cell_type": "code",
   "execution_count": 12,
   "id": "b1fc4137-8031-4588-9745-c264c802a618",
   "metadata": {},
   "outputs": [
    {
     "name": "stdout",
     "output_type": "stream",
     "text": [
      "       BALANCE  BALANCE_FREQUENCY  PURCHASES  ONEOFF_PURCHASES  \\\n",
      "0    40.900749           0.818182      95.40              0.00   \n",
      "1  3202.467416           0.909091       0.00              0.00   \n",
      "2  2495.148862           1.000000     773.17            773.17   \n",
      "3  1666.670542           0.636364    1499.00           1499.00   \n",
      "4   817.714335           1.000000      16.00             16.00   \n",
      "\n",
      "   INSTALLMENTS_PURCHASES  CASH_ADVANCE  PURCHASES_FREQUENCY  \\\n",
      "0                    95.4      0.000000             0.166667   \n",
      "1                     0.0   6442.945483             0.000000   \n",
      "2                     0.0      0.000000             1.000000   \n",
      "3                     0.0    205.788017             0.083333   \n",
      "4                     0.0      0.000000             0.083333   \n",
      "\n",
      "   ONEOFF_PURCHASES_FREQUENCY  PURCHASES_INSTALLMENTS_FREQUENCY  \\\n",
      "0                    0.000000                          0.083333   \n",
      "1                    0.000000                          0.000000   \n",
      "2                    1.000000                          0.000000   \n",
      "3                    0.083333                          0.000000   \n",
      "4                    0.083333                          0.000000   \n",
      "\n",
      "   CASH_ADVANCE_FREQUENCY  CASH_ADVANCE_TRX  PURCHASES_TRX  CREDIT_LIMIT  \\\n",
      "0                0.000000                 0              2        1000.0   \n",
      "1                0.250000                 4              0        7000.0   \n",
      "2                0.000000                 0             12        7500.0   \n",
      "3                0.083333                 1              1        7500.0   \n",
      "4                0.000000                 0              1        1200.0   \n",
      "\n",
      "      PAYMENTS  MINIMUM_PAYMENTS  PRC_FULL_PAYMENT  TENURE  Cluster  \n",
      "0   201.802084        139.509787          0.000000      12        2  \n",
      "1  4103.032597       1072.340217          0.222222      12        1  \n",
      "2   622.066742        627.284787          0.000000      12        0  \n",
      "3     0.000000        864.206542          0.000000      12        2  \n",
      "4   678.334763        244.791237          0.000000      12        2  \n"
     ]
    }
   ],
   "source": [
    "# Apply KMeans with the optimal number of clusters (for example, 4)\n",
    "kmeans = KMeans(n_clusters=4, init='k-means++', max_iter=300, n_init=10, random_state=42)\n",
    "df['Cluster'] = kmeans.fit_predict(df_scaled)\n",
    "\n",
    "# Display the dataset with the cluster labels\n",
    "print(df.head())\n",
    "print(\n"
   ]
  },
  {
   "cell_type": "code",
   "execution_count": 14,
   "id": "35650169-75ad-4e29-986a-82f65f21e711",
   "metadata": {},
   "outputs": [
    {
     "data": {
      "image/png": "[encoded data removed]",
      "text/plain": [
       "<Figure size 640x480 with 1 Axes>"
      ]
     },
     "metadata": {},
     "output_type": "display_data"
    }
   ],
   "source": [
    "# Visualize the clusters using seaborn\n",
    "sns.countplot(df['Cluster'])\n",
    "plt.title('Cluster Distribution')\n",
    "plt.show()\n"
   ]
  },
  {
   "cell_type": "code",
   "execution_count": 15,
   "id": "0e27a537-8fb5-4e8d-bf66-967de3f78486",
   "metadata": {},
   "outputs": [
    {
     "name": "stdout",
     "output_type": "stream",
     "text": [
      "    BALANCE  BALANCE_FREQUENCY  PURCHASES  ONEOFF_PURCHASES  \\\n",
      "0 -0.321688           0.242574   0.109044          0.000926   \n",
      "1  1.459578           0.384753  -0.234638         -0.163914   \n",
      "2 -0.265552          -0.368944  -0.343190         -0.230500   \n",
      "3  0.954485           0.462694   3.125845          2.713251   \n",
      "\n",
      "   INSTALLMENTS_PURCHASES  CASH_ADVANCE  PURCHASES_FREQUENCY  \\\n",
      "0                0.255904     -0.366373             0.983721   \n",
      "1               -0.253747      1.688972            -0.504848   \n",
      "2               -0.387798     -0.182691            -0.797823   \n",
      "3                2.406470     -0.155091             1.136338   \n",
      "\n",
      "   ONEOFF_PURCHASES_FREQUENCY  PURCHASES_INSTALLMENTS_FREQUENCY  \\\n",
      "0                    0.317153                          0.874138   \n",
      "1                   -0.212939                         -0.450201   \n",
      "2                   -0.389437                         -0.714246   \n",
      "3                    1.798653                          1.065918   \n",
      "\n",
      "   CASH_ADVANCE_FREQUENCY  CASH_ADVANCE_TRX  PURCHASES_TRX  CREDIT_LIMIT  \\\n",
      "0               -0.462599         -0.360303       0.296985     -0.077298   \n",
      "1                1.745948          1.617143      -0.283580      0.838968   \n",
      "2               -0.101500         -0.164607      -0.474987     -0.334417   \n",
      "3               -0.319096         -0.170458       3.003251      1.429882   \n",
      "\n",
      "   PAYMENTS  MINIMUM_PAYMENTS  PRC_FULL_PAYMENT    TENURE  \n",
      "0 -0.138502         -0.091844          0.395041  0.057744  \n",
      "1  0.603821          0.490910         -0.406367 -0.097146  \n",
      "2 -0.262060         -0.119249         -0.258866 -0.052972  \n",
      "3  1.919096          0.477421          0.454703  0.324140  \n"
     ]
    }
   ],
   "source": [
    "# Analyze the cluster centroids\n",
    "cluster_centers = pd.DataFrame(kmeans.cluster_centers_, columns=df.columns[:-1])\n",
    "print(cluster_centers)"
   ]
  }
 ],
 "metadata": {
  "kernelspec": {
   "display_name": "Python 3 (ipykernel)",
   "language": "python",
   "name": "python3"
  },
  "language_info": {
   "codemirror_mode": {
    "name": "ipython",
    "version": 3
   },
   "file_extension": ".py",
   "mimetype": "text/x-python",
   "name": "python",
   "nbconvert_exporter": "python",
   "pygments_lexer": "ipython3",
   "version": "3.11.9"
  }
 },
 "nbformat": 4,
 "nbformat_minor": 5
}
