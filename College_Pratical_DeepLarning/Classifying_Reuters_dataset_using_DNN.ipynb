{
 "cells": [
  {
   "cell_type": "markdown",
   "id": "f7be1aa3-dbc0-4ddb-bad5-9bd2204a9604",
   "metadata": {},
   "source": [
    "6. Classifying Reuters dataset using deep neural network-multiclass classification problem."
   ]
  },
  {
   "cell_type": "code",
   "execution_count": 7,
   "id": "8c28b2dc-e8ed-4816-90f1-263f3ab9a68a",
   "metadata": {},
   "outputs": [],
   "source": [
    "# Step 1: Import the necessary libraries\n",
    "import numpy as np\n",
    "import tensorflow as tf\n",
    "from tensorflow.keras.datasets import reuters\n",
    "from tensorflow.keras.preprocessing.sequence import pad_sequences\n",
    "from tensorflow.keras.models import Sequential\n",
    "from tensorflow.keras.layers import Dense, Embedding, LSTM, GlobalMaxPooling1D\n",
    "from sklearn.metrics import accuracy_score, classification_report"
   ]
  },
  {
   "cell_type": "code",
   "execution_count": 3,
   "id": "2c245988-0590-4921-b467-153152daefd3",
   "metadata": {},
   "outputs": [
    {
     "name": "stdout",
     "output_type": "stream",
     "text": [
      "Downloading data from https://storage.googleapis.com/tensorflow/tf-keras-datasets/reuters.npz\n",
      "\u001b[1m2110848/2110848\u001b[0m \u001b[32m━━━━━━━━━━━━━━━━━━━━\u001b[0m\u001b[37m\u001b[0m \u001b[1m10s\u001b[0m 5us/step\n",
      "Training samples: 8982, Test samples: 2246\n"
     ]
    }
   ],
   "source": [
    "# Step 2: Load the Reuters dataset\n",
    "num_words = 10000 # Consider only the top 10,000 most frequent words\n",
    "(X_train, y_train), (X_test, y_test) = reuters.load_data(num_words=num_words)\n",
    "# Check the shape of the data\n",
    "print(f\"Training samples: {len(X_train)}, Test samples: {len(X_test)}\")"
   ]
  },
  {
   "cell_type": "code",
   "execution_count": 5,
   "id": "7dd514cb-5a25-4b08-89d9-80417b5b4bf2",
   "metadata": {},
   "outputs": [
    {
     "name": "stdout",
     "output_type": "stream",
     "text": [
      "(8982, 200)\n"
     ]
    }
   ],
   "source": [
    "# Step 3: Preprocess the data\n",
    "max_len = 200 # Maximum sequence length\n",
    "X_train = pad_sequences(X_train, maxlen=max_len)\n",
    "X_test = pad_sequences(X_test, maxlen=max_len)\n",
    "# Now each review has length 200\n",
    "print(X_train.shape)"
   ]
  },
  {
   "cell_type": "code",
   "execution_count": 6,
   "id": "9e23e858-b099-45f9-977f-b09d5c252e57",
   "metadata": {},
   "outputs": [
    {
     "name": "stderr",
     "output_type": "stream",
     "text": [
      "C:\\Users\\ajays\\anaconda3\\envs\\hakthon\\Lib\\site-packages\\keras\\src\\layers\\core\\embedding.py:90: UserWarning: Argument `input_length` is deprecated. Just remove it.\n",
      "  warnings.warn(\n"
     ]
    }
   ],
   "source": [
    "# Step 4: Define the neural network architecture\n",
    "model = Sequential([\n",
    "    Embedding(input_dim=num_words, output_dim=128,input_length=max_len),\n",
    "    LSTM(units=64),\n",
    "    Dense(units=46, activation='softmax') # Output layer with 46 units for 46 classes\n",
    "])\n"
   ]
  },
  {
   "cell_type": "code",
   "execution_count": 9,
   "id": "5cd61007-9f57-4331-8f24-26482209a5a7",
   "metadata": {},
   "outputs": [
    {
     "data": {
      "text/html": [
       "<pre style=\"white-space:pre;overflow-x:auto;line-height:normal;font-family:Menlo,'DejaVu Sans Mono',consolas,'Courier New',monospace\"><span style=\"font-weight: bold\">Model: \"sequential\"</span>\n",
       "</pre>\n"
      ],
      "text/plain": [
       "\u001b[1mModel: \"sequential\"\u001b[0m\n"
      ]
     },
     "metadata": {},
     "output_type": "display_data"
    },
    {
     "data": {
      "text/html": [
       "<pre style=\"white-space:pre;overflow-x:auto;line-height:normal;font-family:Menlo,'DejaVu Sans Mono',consolas,'Courier New',monospace\">┏━━━━━━━━━━━━━━━━━━━━━━━━━━━━━━━━━┳━━━━━━━━━━━━━━━━━━━━━━━━┳━━━━━━━━━━━━━━━┓\n",
       "┃<span style=\"font-weight: bold\"> Layer (type)                    </span>┃<span style=\"font-weight: bold\"> Output Shape           </span>┃<span style=\"font-weight: bold\">       Param # </span>┃\n",
       "┡━━━━━━━━━━━━━━━━━━━━━━━━━━━━━━━━━╇━━━━━━━━━━━━━━━━━━━━━━━━╇━━━━━━━━━━━━━━━┩\n",
       "│ embedding (<span style=\"color: #0087ff; text-decoration-color: #0087ff\">Embedding</span>)           │ ?                      │   <span style=\"color: #00af00; text-decoration-color: #00af00\">0</span> (unbuilt) │\n",
       "├─────────────────────────────────┼────────────────────────┼───────────────┤\n",
       "│ lstm (<span style=\"color: #0087ff; text-decoration-color: #0087ff\">LSTM</span>)                     │ ?                      │   <span style=\"color: #00af00; text-decoration-color: #00af00\">0</span> (unbuilt) │\n",
       "├─────────────────────────────────┼────────────────────────┼───────────────┤\n",
       "│ dense (<span style=\"color: #0087ff; text-decoration-color: #0087ff\">Dense</span>)                   │ ?                      │   <span style=\"color: #00af00; text-decoration-color: #00af00\">0</span> (unbuilt) │\n",
       "└─────────────────────────────────┴────────────────────────┴───────────────┘\n",
       "</pre>\n"
      ],
      "text/plain": [
       "┏━━━━━━━━━━━━━━━━━━━━━━━━━━━━━━━━━┳━━━━━━━━━━━━━━━━━━━━━━━━┳━━━━━━━━━━━━━━━┓\n",
       "┃\u001b[1m \u001b[0m\u001b[1mLayer (type)                   \u001b[0m\u001b[1m \u001b[0m┃\u001b[1m \u001b[0m\u001b[1mOutput Shape          \u001b[0m\u001b[1m \u001b[0m┃\u001b[1m \u001b[0m\u001b[1m      Param #\u001b[0m\u001b[1m \u001b[0m┃\n",
       "┡━━━━━━━━━━━━━━━━━━━━━━━━━━━━━━━━━╇━━━━━━━━━━━━━━━━━━━━━━━━╇━━━━━━━━━━━━━━━┩\n",
       "│ embedding (\u001b[38;5;33mEmbedding\u001b[0m)           │ ?                      │   \u001b[38;5;34m0\u001b[0m (unbuilt) │\n",
       "├─────────────────────────────────┼────────────────────────┼───────────────┤\n",
       "│ lstm (\u001b[38;5;33mLSTM\u001b[0m)                     │ ?                      │   \u001b[38;5;34m0\u001b[0m (unbuilt) │\n",
       "├─────────────────────────────────┼────────────────────────┼───────────────┤\n",
       "│ dense (\u001b[38;5;33mDense\u001b[0m)                   │ ?                      │   \u001b[38;5;34m0\u001b[0m (unbuilt) │\n",
       "└─────────────────────────────────┴────────────────────────┴───────────────┘\n"
      ]
     },
     "metadata": {},
     "output_type": "display_data"
    },
    {
     "data": {
      "text/html": [
       "<pre style=\"white-space:pre;overflow-x:auto;line-height:normal;font-family:Menlo,'DejaVu Sans Mono',consolas,'Courier New',monospace\"><span style=\"font-weight: bold\"> Total params: </span><span style=\"color: #00af00; text-decoration-color: #00af00\">0</span> (0.00 B)\n",
       "</pre>\n"
      ],
      "text/plain": [
       "\u001b[1m Total params: \u001b[0m\u001b[38;5;34m0\u001b[0m (0.00 B)\n"
      ]
     },
     "metadata": {},
     "output_type": "display_data"
    },
    {
     "data": {
      "text/html": [
       "<pre style=\"white-space:pre;overflow-x:auto;line-height:normal;font-family:Menlo,'DejaVu Sans Mono',consolas,'Courier New',monospace\"><span style=\"font-weight: bold\"> Trainable params: </span><span style=\"color: #00af00; text-decoration-color: #00af00\">0</span> (0.00 B)\n",
       "</pre>\n"
      ],
      "text/plain": [
       "\u001b[1m Trainable params: \u001b[0m\u001b[38;5;34m0\u001b[0m (0.00 B)\n"
      ]
     },
     "metadata": {},
     "output_type": "display_data"
    },
    {
     "data": {
      "text/html": [
       "<pre style=\"white-space:pre;overflow-x:auto;line-height:normal;font-family:Menlo,'DejaVu Sans Mono',consolas,'Courier New',monospace\"><span style=\"font-weight: bold\"> Non-trainable params: </span><span style=\"color: #00af00; text-decoration-color: #00af00\">0</span> (0.00 B)\n",
       "</pre>\n"
      ],
      "text/plain": [
       "\u001b[1m Non-trainable params: \u001b[0m\u001b[38;5;34m0\u001b[0m (0.00 B)\n"
      ]
     },
     "metadata": {},
     "output_type": "display_data"
    }
   ],
   "source": [
    "# Step 5: Compile the model\n",
    "model.compile(optimizer='adam',\n",
    "loss='sparse_categorical_crossentropy', metrics=['accuracy'])\n",
    "# Print the model summary\n",
    "model.summary()"
   ]
  },
  {
   "cell_type": "code",
   "execution_count": 11,
   "id": "0abd787b-e6ec-4427-9706-252204330315",
   "metadata": {},
   "outputs": [
    {
     "name": "stdout",
     "output_type": "stream",
     "text": [
      "Epoch 1/10\n",
      "\u001b[1m64/64\u001b[0m \u001b[32m━━━━━━━━━━━━━━━━━━━━\u001b[0m\u001b[37m\u001b[0m \u001b[1m13s\u001b[0m 198ms/step - accuracy: 0.6507 - loss: 1.4451 - val_accuracy: 0.6329 - val_loss: 1.5257\n",
      "Epoch 2/10\n",
      "\u001b[1m64/64\u001b[0m \u001b[32m━━━━━━━━━━━━━━━━━━━━\u001b[0m\u001b[37m\u001b[0m \u001b[1m14s\u001b[0m 213ms/step - accuracy: 0.6778 - loss: 1.2983 - val_accuracy: 0.6452 - val_loss: 1.4688\n",
      "Epoch 3/10\n",
      "\u001b[1m64/64\u001b[0m \u001b[32m━━━━━━━━━━━━━━━━━━━━\u001b[0m\u001b[37m\u001b[0m \u001b[1m13s\u001b[0m 209ms/step - accuracy: 0.7428 - loss: 1.0881 - val_accuracy: 0.6574 - val_loss: 1.4150\n",
      "Epoch 4/10\n",
      "\u001b[1m64/64\u001b[0m \u001b[32m━━━━━━━━━━━━━━━━━━━━\u001b[0m\u001b[37m\u001b[0m \u001b[1m14s\u001b[0m 214ms/step - accuracy: 0.7711 - loss: 0.9357 - val_accuracy: 0.6707 - val_loss: 1.4116\n",
      "Epoch 5/10\n",
      "\u001b[1m64/64\u001b[0m \u001b[32m━━━━━━━━━━━━━━━━━━━━\u001b[0m\u001b[37m\u001b[0m \u001b[1m15s\u001b[0m 229ms/step - accuracy: 0.7938 - loss: 0.8485 - val_accuracy: 0.6719 - val_loss: 1.3918\n",
      "Epoch 6/10\n",
      "\u001b[1m64/64\u001b[0m \u001b[32m━━━━━━━━━━━━━━━━━━━━\u001b[0m\u001b[37m\u001b[0m \u001b[1m15s\u001b[0m 229ms/step - accuracy: 0.8380 - loss: 0.6755 - val_accuracy: 0.6852 - val_loss: 1.3999\n",
      "Epoch 7/10\n",
      "\u001b[1m64/64\u001b[0m \u001b[32m━━━━━━━━━━━━━━━━━━━━\u001b[0m\u001b[37m\u001b[0m \u001b[1m15s\u001b[0m 232ms/step - accuracy: 0.8454 - loss: 0.6332 - val_accuracy: 0.6863 - val_loss: 1.4229\n",
      "Epoch 8/10\n",
      "\u001b[1m64/64\u001b[0m \u001b[32m━━━━━━━━━━━━━━━━━━━━\u001b[0m\u001b[37m\u001b[0m \u001b[1m14s\u001b[0m 216ms/step - accuracy: 0.8529 - loss: 0.5836 - val_accuracy: 0.6863 - val_loss: 1.4259\n",
      "Epoch 9/10\n",
      "\u001b[1m64/64\u001b[0m \u001b[32m━━━━━━━━━━━━━━━━━━━━\u001b[0m\u001b[37m\u001b[0m \u001b[1m14s\u001b[0m 223ms/step - accuracy: 0.8803 - loss: 0.4873 - val_accuracy: 0.6852 - val_loss: 1.4319\n",
      "Epoch 10/10\n",
      "\u001b[1m64/64\u001b[0m \u001b[32m━━━━━━━━━━━━━━━━━━━━\u001b[0m\u001b[37m\u001b[0m \u001b[1m14s\u001b[0m 215ms/step - accuracy: 0.8836 - loss: 0.4662 - val_accuracy: 0.6763 - val_loss: 1.5253\n"
     ]
    }
   ],
   "source": [
    "# Step 6: Train the model\n",
    "history = model.fit(X_train, y_train, epochs=10, batch_size=128,validation_split=0.1)\n"
   ]
  },
  {
   "cell_type": "code",
   "execution_count": 12,
   "id": "e12af90a-bd40-46ce-9754-06d8c332ead8",
   "metadata": {},
   "outputs": [
    {
     "name": "stdout",
     "output_type": "stream",
     "text": [
      "\u001b[1m71/71\u001b[0m \u001b[32m━━━━━━━━━━━━━━━━━━━━\u001b[0m\u001b[37m\u001b[0m \u001b[1m2s\u001b[0m 26ms/step\n",
      "Test Accuracy: 0.6763134461264471\n",
      "              precision    recall  f1-score   support\n",
      "\n",
      "           0       0.06      0.08      0.07        12\n",
      "           1       0.67      0.54      0.60       105\n",
      "           2       0.60      0.15      0.24        20\n",
      "           3       0.94      0.89      0.91       813\n",
      "           4       0.76      0.86      0.81       474\n",
      "           5       0.00      0.00      0.00         5\n",
      "           6       0.31      0.36      0.33        14\n",
      "           7       0.00      0.00      0.00         3\n",
      "           8       0.28      0.74      0.41        38\n",
      "           9       0.36      0.60      0.45        25\n",
      "          10       0.57      0.57      0.57        30\n",
      "          11       0.41      0.45      0.43        83\n",
      "          12       0.17      0.15      0.16        13\n",
      "          13       0.27      0.16      0.20        37\n",
      "          14       0.00      0.00      0.00         2\n",
      "          15       0.00      0.00      0.00         9\n",
      "          16       0.44      0.72      0.54        99\n",
      "          17       0.00      0.00      0.00        12\n",
      "          18       0.24      0.35      0.29        20\n",
      "          19       0.61      0.56      0.58       133\n",
      "          20       0.48      0.44      0.46        70\n",
      "          21       0.38      0.41      0.39        27\n",
      "          22       0.00      0.00      0.00         7\n",
      "          23       0.50      0.08      0.14        12\n",
      "          24       0.19      0.16      0.17        19\n",
      "          25       0.39      0.45      0.42        31\n",
      "          26       0.00      0.00      0.00         8\n",
      "          27       0.50      0.25      0.33         4\n",
      "          28       0.00      0.00      0.00        10\n",
      "          29       0.00      0.00      0.00         4\n",
      "          30       0.00      0.00      0.00        12\n",
      "          31       0.00      0.00      0.00        13\n",
      "          32       0.00      0.00      0.00        10\n",
      "          33       0.00      0.00      0.00         5\n",
      "          34       0.06      0.14      0.08         7\n",
      "          35       0.00      0.00      0.00         6\n",
      "          36       0.00      0.00      0.00        11\n",
      "          37       0.00      0.00      0.00         2\n",
      "          38       0.00      0.00      0.00         3\n",
      "          39       0.00      0.00      0.00         5\n",
      "          40       0.00      0.00      0.00        10\n",
      "          41       0.00      0.00      0.00         8\n",
      "          42       0.00      0.00      0.00         3\n",
      "          43       0.00      0.00      0.00         6\n",
      "          44       1.00      0.80      0.89         5\n",
      "          45       0.33      1.00      0.50         1\n",
      "\n",
      "    accuracy                           0.68      2246\n",
      "   macro avg       0.23      0.24      0.22      2246\n",
      "weighted avg       0.67      0.68      0.66      2246\n",
      "\n"
     ]
    },
    {
     "name": "stderr",
     "output_type": "stream",
     "text": [
      "C:\\Users\\ajays\\anaconda3\\envs\\hakthon\\Lib\\site-packages\\sklearn\\metrics\\_classification.py:1334: UndefinedMetricWarning: Precision and F-score are ill-defined and being set to 0.0 in labels with no predicted samples. Use `zero_division` parameter to control this behavior.\n",
      "  _warn_prf(average, modifier, msg_start, len(result))\n",
      "C:\\Users\\ajays\\anaconda3\\envs\\hakthon\\Lib\\site-packages\\sklearn\\metrics\\_classification.py:1334: UndefinedMetricWarning: Precision and F-score are ill-defined and being set to 0.0 in labels with no predicted samples. Use `zero_division` parameter to control this behavior.\n",
      "  _warn_prf(average, modifier, msg_start, len(result))\n",
      "C:\\Users\\ajays\\anaconda3\\envs\\hakthon\\Lib\\site-packages\\sklearn\\metrics\\_classification.py:1334: UndefinedMetricWarning: Precision and F-score are ill-defined and being set to 0.0 in labels with no predicted samples. Use `zero_division` parameter to control this behavior.\n",
      "  _warn_prf(average, modifier, msg_start, len(result))\n"
     ]
    }
   ],
   "source": [
    "# Step 7: Evaluate the model\n",
    "y_pred = np.argmax(model.predict(X_test), axis=1)\n",
    "accuracy = accuracy_score(y_test, y_pred)\n",
    "print(\"Test Accuracy:\", accuracy)\n",
    "print(classification_report(y_test, y_pred))"
   ]
  },
  {
   "cell_type": "code",
   "execution_count": 16,
   "id": "247fcc72-c94e-4679-ad5a-9711f2eff943",
   "metadata": {},
   "outputs": [],
   "source": [
    "# Step 8: Select random samples from the test dataset\n",
    "num_samples = 10\n",
    "test_size = len(X_test)\n",
    "random_indices = np.random.choice(test_size, num_samples,replace=False)"
   ]
  },
  {
   "cell_type": "code",
   "execution_count": 21,
   "id": "af14b211-b760-46c9-9982-13306fbaa12a",
   "metadata": {},
   "outputs": [],
   "source": [
    "# Step 9: Define a function to decode the integer sequences back intowords\n",
    "def decode_sequence(sequence):\n",
    " word_index = reuters.get_word_index()\n",
    " reverse_word_index = dict([(value, key) for (key, value) in word_index.items()])\n",
    " return ' '.join([reverse_word_index.get(i - 3, '?') for i in sequence])\n"
   ]
  },
  {
   "cell_type": "code",
   "execution_count": 22,
   "id": "f4dcfbc2-5bf8-4e50-9f45-670cb790f181",
   "metadata": {},
   "outputs": [
    {
     "name": "stdout",
     "output_type": "stream",
     "text": [
      "Sample Classification Output:\n",
      "Sample 1:\n",
      "Downloading data from https://storage.googleapis.com/tensorflow/tf-keras-datasets/reuters_word_index.json\n",
      "\u001b[1m550378/550378\u001b[0m \u001b[32m━━━━━━━━━━━━━━━━━━━━\u001b[0m\u001b[37m\u001b[0m \u001b[1m1s\u001b[0m 2us/step\n",
      "Text: it has placed its approximately 540 mln dlrs of medium and long term loans to brazil on non accrual status and that first quarter net income will be reduced by about seven mln dlrs as a result brazil suspended interest payments on its 68 billion dlrs of medium and long term debt on february 22 u s banking regulations do not require banks to stop accruing interest on loans until payments are 90 days overdue but bankers trust said it acted now because of the high potential of a continued suspension that would result in reaching the 90 day limit in the second quarter of 1987 assuming no cash payments at current interest rates are received for the rest of 1987 bankers trust estimated that full year net income would be reduced by about 30 mln dlrs bankers trust said it assumes that debt negotiations between brazil and its commercial bank lenders will lead to the resumption of interest payments the negotiations resume in new york on friday when central bank governor francisco gros is expected to ask banks for a 90 day ? of some 9 5 billion dlrs of term debt that ? on april 15 reuter 3\n",
      "Actual Label: 3\n",
      "Predicted Label: 3\n",
      "\n",
      "Sample 2:\n",
      "Text: ? ? ? ? ? ? ? ? ? ? ? ? ? ? ? ? ? ? ? ? ? ? ? ? ? ? ? ? ? ? ? ? ? ? ? ? ? ? ? ? ? ? ? ? ? ? ? ? ? ? ? ? ? ? ? ? ? ? ? ? ? ? ? ? ? ? ? ? ? ? ? ? ? ? ? ? ? ? ? ? ? ? ? ? ? ? ? ? ? ? ? ? ? ? ? ? ? ? ? ? ? ? ? ? ? ? ? ? ? ? ? ? ? ? ? ? ? ? ? ? ? ? ? ? ? ? ? ? ? ? ? ? ? ? ? ? ? ? ? ? ? ? ? ? ? shr 27 cts vs 28 cts net 1 026 000 vs 1 025 000 sales 27 8 mln vs 25 4 mln year shr 95 cts vs 16 cts net 3 682 000 vs 598 000 sales 102 1 mln vs 100 4 mln avg shrs 3 858 000 vs 3 700 000 reuter 3\n",
      "Actual Label: 3\n",
      "Predicted Label: 3\n",
      "\n",
      "Sample 3:\n",
      "Text: in arguments by some economists that the peso currently pegged at 20 50 to the dollar ought to be devalued to make the country's exports more competitive by being pegged to the dollar on a basket basis the peso has already substantially devalued against all of the country's trading partners he said on the proposed ? investment code he said he was opposed to a clause which would allow the ? ? abroad of investments made during the first two years after the imposition of the code the imposition of the code scheduled for last january has been delayed by objections from some business groups i think any central bank certainly this one after the events of the past two or two and a half years has to be prudent this is not the time to throw all caution to the winds and i'm not about to do that fernandez said it would be ideal if we reach a point where movement of capital and earnings can be free he said we have had one year of reasonably good results certainly we continue to have a fairly heavy drain on our external ? simply by servicing our debts reuter 3\n",
      "Actual Label: 21\n",
      "Predicted Label: 20\n",
      "\n",
      "Sample 4:\n",
      "Text: month certificates of deposit the key bond has ? less than five basis points for more than a month here suggesting most dealers could not satisfy their needs for capital gains dealers said a market survey by reuters showed some active accounts in u s treasuries are currently dealing on tokyo's stock market the stock market's ? late last week was partly due to funds transferred from u s treasuries dealers said japanese net purchases of foreign securities in the first half of march fell an estimated one billion dlrs compared with average monthly net purchases of 7 7 billion for the whole of 1986 finance ministry sources said the steep fall is due to japanese investors' cool attitude towards u s bonds which had amounted to more than 80 pct of total foreign securities purchased securities houses managers said foreign stock buying in march is expected to exceed the record high of 1 5 billion dlrs seen in december they said diversification of foreign portfolios is underway and we have bought bonds in currencies such as marks the canadian dollar the ecu and french franc a fund manager at lt ? trust and banking co ltd said reuter 3\n",
      "Actual Label: 19\n",
      "Predicted Label: 19\n",
      "\n",
      "Sample 5:\n",
      "Text: ? ? ? ? ? ? ? ? ? ? ? ? ? ? ? ? ? ? ? ? ? ? ? ? ? ? ? ? ? ? ? ? ? ? ? ? ? ? ? ? ? ? ? ? ? ? ? ? ? ? ? ? ? ? ? ? ? ? ? ? ? ? ? ? ? ? ? ? ? ? ? ? ? ? ? ? ? ? ? ? ? ? ? ? ? ? ? ? ? ? ? ? ? ? ? ? ? ? ? ? ? ? ? ? ? ? ? ? ? ? ? ? ? ? ? ? ? ? ? ? ? ? ? ? ? ? ? ? ? ? ? ? ? ? ? ? ? ? ? ? ? ? ? ? ? ? ? ? ? ? ? ? ? ? ? ? shr profit nil vs loss nil net profit 28 565 vs loss 204 553 revs 507 529 vs 6 563 nine mths shr loss nil vs loss nil net loss 404 011 vs loss 649 495 revs 938 345 vs 32 535 reuter 3\n",
      "Actual Label: 3\n",
      "Predicted Label: 3\n",
      "\n",
      "Sample 6:\n",
      "Text: ? ? ? ? ? ? ? ? ? ? ? ? ? ? ? ? ? ? ? ? ? ? ? ? ? ? ? ? ? ? ? ? ? ? ? ? ? ? ? ? ? ? ? ? ? ? ? ? ? ? ? ? ? ? ? ? ? ? ? ? ? ? ? ? ? ? six pct of alberta and northeastern british columbia crops have been ? about a week ahead of the 10 year average according to the alberta wheat pool report hard red spring wheat accounts for most acreage with 6 0 mln estimated for this year little changed from last year oats acreage of 1 95 mln is unchanged on last year and barley area of 5 9 mln is also similar to last year rapeseed planting of an estimated 3 24 mln is expected five pct up on 1986 the south and south central areas of alberta lacked moisture with ? ? at best growth prospects in northern areas are generally in the good to very good range soil moisture is better in the north central and ? areas the wheat pool said reuter 3\n",
      "Actual Label: 1\n",
      "Predicted Label: 1\n",
      "\n",
      "Sample 7:\n",
      "Text: ? ? ? ? ? ? ? ? ? ? ? ? ? ? ? ? ? ? ? ? ? ? ? ? ? ? ? ? ? ? ? ? ? ? ? ? ? ? ? ? ? ? ? ? ? ? ? ? ? ? ? ? ? ? ? ? ? ? ? ? ? ? ? ? ? ? ? ? ? ? ? ? ? ? ? ? ? ? ? ? ? ? ? ? ? ? ? ? ? ? ? ? ? ? ? ? ? ? ? ? ? ? ? ? ? ? ? ? ? ? ? ? ? ? ? ? ? ? ? ? ? ? ? ? ? ? oil and gas partners ltd said it has agreed to purchase all of ? industries inc's oil and natural gas properties for about 5 500 000 dlrs effective july 1 it said the louisiana properties had proven reserves at year end of 11 billion cubic feet of natural gas and 85 000 barrels of oil condensate and natural gas liquids ? said it currently owns working interests in some of the properties reuter 3\n",
      "Actual Label: 4\n",
      "Predicted Label: 4\n",
      "\n",
      "Sample 8:\n",
      "Text: ? ? ? ? ? ? ? ? ? ? ? ? ? ? ? ? ? ? ? ? ? ? ? ? ? ? ? ? ? ? ? ? ? ? ? ? ? ? ? ? ? ? ? ? ? ? ? ? ? ? ? ? ? ? ? ? ? ? ? ? ? ? ? ? ? ? ? ? ? ? ? ? ? ? ? ? ? ? ? ? ? ? ? ? ? ? ? ? ? ? ? ? ? ? ? ? ? ? ? ? ? ? ? ? ? ? ? ? ? ? ? ? ? ? ? ? ? ? ? ? ? ? ? ? ? ? ? ? ? ? ? ? ? ? ? ? ? ? ? ? ? ? ? ? ? ? ? ? ? ? ? ? shr 10 cts vs seven cts net 1 541 000 vs 1 056 000 revs 20 1 mln vs 17 0 mln 1st half shr 19 cts vs 11 cts net 2 945 000 vs 1 742 000 revs 38 2 mln vs 35 2 mln reuter 3\n",
      "Actual Label: 3\n",
      "Predicted Label: 3\n",
      "\n",
      "Sample 9:\n",
      "Text: ? ? ? ? ? ? ? ? ? ? ? ? ? ? ? ? ? ? ? ? ? ? ? ? ? ? ? ? ? ? ? ? ? ? ? ? ? ? ? ? ? ? ? ? ? ? ? ? ? ? ? ? ? ? ? ? ? ? ? ? ? ? ? ? ? ? ? ? ? ? ? ? ? ? ? ? ? ? ? ? ? ? ? ? ? ? ? ? ? ? ? ? ? ? ? ? ? ? ? ? ? ? ? ? ? ? ? ? ? ? ? ? ? ? ? ? ? ? ? ? ? ? ? ? ? ? ? ? ? ? ? ? ? ? ? ? ? ? ? ? ? ? ? ? ? ? ? ? ? ? ? ? shr 24 cts vs 20 cts net 11 784 000 vs 8 302 000 rev 269 1 mln vs 211 9 mln six months shr 48 cts vs 40 cts net 23 191 000 vs 16 556 000 rev 517 5 mln vs 429 3 mln reuter 3\n",
      "Actual Label: 3\n",
      "Predicted Label: 3\n",
      "\n",
      "Sample 10:\n",
      "Text: ? ? ? ? ? ? ? ? ? ? ? ? ? ? ? ? ? ? ? ? ? ? ? ? ? ? ? ? ? ? ? ? ? ? ? ? ? ? ? ? ? ? ? ? ? ? ? ? ? ? ? ? ? ? ? ? ? ? ? ? ? ? ? ? ? ? ? ? ? ? ? ? ? ? ? ? ? ? ? ? ? ? ? ? ? ? ? ? ? ? ? ? ? ? ? ? ? ? ? ? ? ? ? indonesia the world's second largest producer of palm oil has not issued licences to import the commodity a spokesman for the ministry of trade said traders in london said indonesia has issued licences to local operators to import around 135 000 tonnes of palm oil starting in april but the spokesman said this was ? a spokesman for the indonesian importers association also denied knowledge of the import plan he said importers would quickly know if licences were issued the trade ministry official said there was no sign of a palm oil shortage in indonesia reuter 3\n",
      "Actual Label: 2\n",
      "Predicted Label: 13\n",
      "\n"
     ]
    }
   ],
   "source": [
    "# Step 10: Print sample classification output\n",
    "print(\"Sample Classification Output:\")\n",
    "for i in range(num_samples):\n",
    " print(f\"Sample {i+1}:\")\n",
    " print(\"Text:\", decode_sequence(X_test[random_indices[i]]))\n",
    " print(\"Actual Label:\", y_test[random_indices[i]])\n",
    " print(\"Predicted Label:\", y_pred[random_indices[i]])\n",
    " print() # Add empty line for separation"
   ]
  },
  {
   "cell_type": "code",
   "execution_count": null,
   "id": "d0f74314-1df0-4ebe-8488-e4913ed4b261",
   "metadata": {},
   "outputs": [],
   "source": []
  }
 ],
 "metadata": {
  "kernelspec": {
   "display_name": "Python 3 (ipykernel)",
   "language": "python",
   "name": "python3"
  },
  "language_info": {
   "codemirror_mode": {
    "name": "ipython",
    "version": 3
   },
   "file_extension": ".py",
   "mimetype": "text/x-python",
   "name": "python",
   "nbconvert_exporter": "python",
   "pygments_lexer": "ipython3",
   "version": "3.11.9"
  }
 },
 "nbformat": 4,
 "nbformat_minor": 5
}
