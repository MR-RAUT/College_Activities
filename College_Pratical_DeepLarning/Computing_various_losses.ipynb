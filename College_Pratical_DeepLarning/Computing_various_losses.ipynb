{
 "cells": [
  {
   "cell_type": "markdown",
   "id": "df1cab01-5a87-4d92-9a08-33fdbe5821de",
   "metadata": {},
   "source": [
    "2. Creating functions to compute various losses."
   ]
  },
  {
   "cell_type": "code",
   "execution_count": 2,
   "id": "5630f7f4-42c2-4148-ad53-d17db2b4932b",
   "metadata": {},
   "outputs": [],
   "source": [
    "# Step 1: Import necessary libraries\n",
    "import numpy as np"
   ]
  },
  {
   "cell_type": "code",
   "execution_count": 3,
   "id": "c5a8fb63-5c5c-460a-a168-e164b800e690",
   "metadata": {},
   "outputs": [],
   "source": [
    "# Step 2: Define the synthetic dataset\n",
    "np.random.seed(0)\n",
    "X = np.random.rand(100, 1)\n",
    "y_true = 2 * X.squeeze() + 1 + np.random.randn(100) * 0.1\n",
    "y_pred = 2 * X.squeeze() + 1.1"
   ]
  },
  {
   "cell_type": "code",
   "execution_count": 4,
   "id": "09d11d94-41b7-4d3f-8fe4-06232e147dc1",
   "metadata": {},
   "outputs": [],
   "source": [
    "# Step 3: Implement the loss functions\n",
    "def mean_squared_error(y_true, y_pred):\n",
    " return np.mean((y_true - y_pred) ** 2)\n",
    "def binary_cross_entropy(y_true, y_pred):\n",
    " epsilon = 1e-15\n",
    " y_pred = np.clip(y_pred, epsilon, 1 - epsilon)\n",
    " return -np.mean(y_true * np.log(y_pred) + (1 - y_true) * np.log(1- y_pred))\n",
    "def categorical_cross_entropy(y_true, y_pred):\n",
    " epsilon = 1e-15\n",
    " y_pred = np.clip(y_pred, epsilon, 1 - epsilon)\n",
    " return -np.mean(y_true * np.log(y_pred))"
   ]
  },
  {
   "cell_type": "code",
   "execution_count": 5,
   "id": "4eb6725f-860d-4187-8227-d81c482253cc",
   "metadata": {},
   "outputs": [],
   "source": [
    "# Step 4: Compute losses\n",
    "mse_loss = mean_squared_error(y_true, y_pred)\n",
    "bce_loss = binary_cross_entropy((y_true >np.mean(y_true)).astype(int), y_pred)\n",
    "cce_loss = categorical_cross_entropy(np.eye(10)[np.random.randint(10,size=100)], np.random.rand(100, 10))"
   ]
  },
  {
   "cell_type": "code",
   "execution_count": 6,
   "id": "f3615515-bbe0-40b0-99c7-b088ef37a62a",
   "metadata": {},
   "outputs": [
    {
     "name": "stdout",
     "output_type": "stream",
     "text": [
      "Mean Squared Error Loss: 0.016450930359532285\n",
      "Binary Cross-Entropy Loss: 16.23360071640021\n",
      "Categorical Cross-Entropy Loss: 0.08131051386782367\n"
     ]
    }
   ],
   "source": [
    "# Step 5: Print computed losses\n",
    "print(\"Mean Squared Error Loss:\", mse_loss)\n",
    "print(\"Binary Cross-Entropy Loss:\", bce_loss)\n",
    "print(\"Categorical Cross-Entropy Loss:\", cce_loss)"
   ]
  },
  {
   "cell_type": "code",
   "execution_count": null,
   "id": "63424808-c47f-49c7-94cf-6bbc6888fe36",
   "metadata": {},
   "outputs": [],
   "source": []
  }
 ],
 "metadata": {
  "kernelspec": {
   "display_name": "Python 3 (ipykernel)",
   "language": "python",
   "name": "python3"
  },
  "language_info": {
   "codemirror_mode": {
    "name": "ipython",
    "version": 3
   },
   "file_extension": ".py",
   "mimetype": "text/x-python",
   "name": "python",
   "nbconvert_exporter": "python",
   "pygments_lexer": "ipython3",
   "version": "3.11.9"
  }
 },
 "nbformat": 4,
 "nbformat_minor": 5
}
