{
 "cells": [
  {
   "cell_type": "markdown",
   "id": "052ce4ab-8d08-4986-8f17-b62df2ca2513",
   "metadata": {},
   "source": [
    "3. Feeding data to pretrained neural network and making predictions."
   ]
  },
  {
   "cell_type": "code",
   "execution_count": 5,
   "id": "dff28960-e45d-4f29-9e39-6956afca2eaa",
   "metadata": {},
   "outputs": [],
   "source": [
    "# Step 1: Import necessary libraries\n",
    "import numpy as np\n",
    "import tensorflow as tf\n",
    "from tensorflow.keras.applications import VGG16\n",
    "from tensorflow.keras.preprocessing import image\n",
    "from tensorflow.keras.applications.vgg16 import preprocess_input,decode_predictions"
   ]
  },
  {
   "cell_type": "code",
   "execution_count": 6,
   "id": "e4270149-da97-447c-9b00-4985fd0e62cd",
   "metadata": {},
   "outputs": [],
   "source": [
    "# Step 2: Load Pretrained Model (VGG16)\n",
    "model = VGG16(weights='imagenet', include_top=True)"
   ]
  },
  {
   "cell_type": "code",
   "execution_count": 7,
   "id": "f1f7d567-53dd-4241-a16c-9d0720db3560",
   "metadata": {},
   "outputs": [],
   "source": [
    "# Step 3: Preprocess Input Data\n",
    "# Define the path to your image\n",
    "img_path = 'data/brown_recluse.jpg'"
   ]
  },
  {
   "cell_type": "code",
   "execution_count": 8,
   "id": "32ad5825-4eb3-4838-87cc-a4b5e47eaef9",
   "metadata": {},
   "outputs": [],
   "source": [
    "# Load and preprocess the image\n",
    "img = image.load_img(img_path, target_size=(224, 224))\n",
    "x = image.img_to_array(img)\n",
    "x = np.expand_dims(x, axis=0)\n",
    "x = preprocess_input(x)"
   ]
  },
  {
   "cell_type": "code",
   "execution_count": 9,
   "id": "b952b9c4-a3e9-4461-9b6c-57edaeaedcee",
   "metadata": {},
   "outputs": [
    {
     "name": "stdout",
     "output_type": "stream",
     "text": [
      "\u001b[1m1/1\u001b[0m \u001b[32m━━━━━━━━━━━━━━━━━━━━\u001b[0m\u001b[37m\u001b[0m \u001b[1m2s\u001b[0m 2s/step\n"
     ]
    }
   ],
   "source": [
    "# Step 4: Feed Data to the Model\n",
    "preds = model.predict(x)"
   ]
  },
  {
   "cell_type": "code",
   "execution_count": 11,
   "id": "7ce89507-6cb6-40a1-99ae-6f92b05655e9",
   "metadata": {},
   "outputs": [
    {
     "name": "stdout",
     "output_type": "stream",
     "text": [
      "Downloading data from https://storage.googleapis.com/download.tensorflow.org/data/imagenet_class_index.json\n",
      "\u001b[1m35363/35363\u001b[0m \u001b[32m━━━━━━━━━━━━━━━━━━━━\u001b[0m\u001b[37m\u001b[0m \u001b[1m0s\u001b[0m 2us/step\n",
      "Predicted: [('n01775062', 'wolf_spider', 0.5976724), ('n01773549', 'barn_spider', 0.2535081), ('n01770081', 'harvestman', 0.07575499)]\n"
     ]
    }
   ],
   "source": [
    "# Step 5: Interpret Predictions\n",
    "# Output the top 3 predictions with probabilities\n",
    "print('Predicted:', decode_predictions(preds, top=3)[0])"
   ]
  },
  {
   "cell_type": "code",
   "execution_count": null,
   "id": "a57ab21b-86ec-4398-8345-4ab55f748a18",
   "metadata": {},
   "outputs": [],
   "source": []
  }
 ],
 "metadata": {
  "kernelspec": {
   "display_name": "Python 3 (ipykernel)",
   "language": "python",
   "name": "python3"
  },
  "language_info": {
   "codemirror_mode": {
    "name": "ipython",
    "version": 3
   },
   "file_extension": ".py",
   "mimetype": "text/x-python",
   "name": "python",
   "nbconvert_exporter": "python",
   "pygments_lexer": "ipython3",
   "version": "3.11.9"
  }
 },
 "nbformat": 4,
 "nbformat_minor": 5
}
