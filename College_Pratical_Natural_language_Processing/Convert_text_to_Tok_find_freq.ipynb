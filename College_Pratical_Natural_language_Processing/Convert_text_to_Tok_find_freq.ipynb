{
 "cells": [
  {
   "cell_type": "markdown",
   "metadata": {},
   "source": [
    "# 1 Convert the text into tokens. Find the word frequency."
   ]
  },
  {
   "cell_type": "code",
   "execution_count": 1,
   "metadata": {},
   "outputs": [],
   "source": [
    "import nltk\n",
    "from nltk.tokenize import word_tokenize\n",
    "from nltk.probability import FreqDist"
   ]
  },
  {
   "cell_type": "code",
   "execution_count": 2,
   "metadata": {},
   "outputs": [],
   "source": [
    "# Sample text\n",
    "text = \"\"\"\n",
    "Convert the text into tokens. Find the word frequency.\n",
    "My name in Mahesh Raut\n",
    "\"\"\""
   ]
  },
  {
   "cell_type": "code",
   "execution_count": 3,
   "metadata": {},
   "outputs": [],
   "source": [
    "# Tokenize the text using nltk\n",
    "tokens = word_tokenize(text.lower())"
   ]
  },
  {
   "cell_type": "code",
   "execution_count": 4,
   "metadata": {},
   "outputs": [],
   "source": [
    "# Find the word frequency using FreqDist\n",
    "word_freq = FreqDist(tokens)"
   ]
  },
  {
   "cell_type": "code",
   "execution_count": 5,
   "metadata": {},
   "outputs": [
    {
     "name": "stdout",
     "output_type": "stream",
     "text": [
      "Tokens: ['convert', 'the', 'text', 'into', 'tokens', '.', 'find', 'the', 'word', 'frequency', '.', 'my', 'name', 'in', 'mahesh', 'raut']\n",
      "\n",
      "Word Frequency:\n",
      "convert: 1\n",
      "the: 2\n",
      "text: 1\n",
      "into: 1\n",
      "tokens: 1\n",
      ".: 2\n",
      "find: 1\n",
      "word: 1\n",
      "frequency: 1\n",
      "my: 1\n",
      "name: 1\n",
      "in: 1\n",
      "mahesh: 1\n",
      "raut: 1\n"
     ]
    }
   ],
   "source": [
    "# Output the tokens and word frequencies\n",
    "print(\"Tokens:\", tokens)\n",
    "print(\"\\nWord Frequency:\")\n",
    "for word, freq in word_freq.items():\n",
    "    print(f\"{word}: {freq}\")"
   ]
  }
 ],
 "metadata": {
  "kernelspec": {
   "display_name": "ajay",
   "language": "python",
   "name": "python3"
  },
  "language_info": {
   "codemirror_mode": {
    "name": "ipython",
    "version": 3
   },
   "file_extension": ".py",
   "mimetype": "text/x-python",
   "name": "python",
   "nbconvert_exporter": "python",
   "pygments_lexer": "ipython3",
   "version": "3.10.2"
  }
 },
 "nbformat": 4,
 "nbformat_minor": 2
}
