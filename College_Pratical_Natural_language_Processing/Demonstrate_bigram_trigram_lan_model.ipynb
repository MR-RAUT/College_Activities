{
 "cells": [
  {
   "cell_type": "markdown",
   "metadata": {},
   "source": [
    "# 3 Demonstrate a bigram/trigram language model. Generate regular expression for a given text\n"
   ]
  },
  {
   "cell_type": "code",
   "execution_count": 13,
   "metadata": {},
   "outputs": [
    {
     "name": "stderr",
     "output_type": "stream",
     "text": [
      "[nltk_data] Downloading package punkt to\n",
      "[nltk_data]     C:\\Users\\ajays\\AppData\\Roaming\\nltk_data...\n",
      "[nltk_data]   Package punkt is already up-to-date!\n"
     ]
    },
    {
     "data": {
      "text/plain": [
       "True"
      ]
     },
     "execution_count": 13,
     "metadata": {},
     "output_type": "execute_result"
    }
   ],
   "source": [
    "import nltk\n",
    "import re\n",
    "from nltk import bigrams, trigrams\n",
    "from collections import Counter, defaultdict\n",
    "nltk.download('punkt')  # Download the tokenizer models\n",
    "\n"
   ]
  },
  {
   "cell_type": "code",
   "execution_count": 7,
   "metadata": {},
   "outputs": [],
   "source": [
    "# Sample text\n",
    "text = \"\"\"I love learning new things in machine learning and natural language processing.\"\"\"\n",
    "\n",
    "# Tokenize the text into words\n",
    "tokens = nltk.word_tokenize(text)\n",
    "\n",
    "# Create bigrams and trigrams\n",
    "bigram_model = list(bigrams(tokens))\n",
    "trigram_model = list(trigrams(tokens))"
   ]
  },
  {
   "cell_type": "code",
   "execution_count": 8,
   "metadata": {},
   "outputs": [
    {
     "name": "stdout",
     "output_type": "stream",
     "text": [
      "Bigrams:\n",
      "[('I', 'love'), ('love', 'learning'), ('learning', 'new'), ('new', 'things'), ('things', 'in'), ('in', 'machine'), ('machine', 'learning'), ('learning', 'and'), ('and', 'natural'), ('natural', 'language'), ('language', 'processing'), ('processing', '.')]\n",
      "\n",
      "Trigrams:\n",
      "[('I', 'love', 'learning'), ('love', 'learning', 'new'), ('learning', 'new', 'things'), ('new', 'things', 'in'), ('things', 'in', 'machine'), ('in', 'machine', 'learning'), ('machine', 'learning', 'and'), ('learning', 'and', 'natural'), ('and', 'natural', 'language'), ('natural', 'language', 'processing'), ('language', 'processing', '.')]\n"
     ]
    }
   ],
   "source": [
    "# Display bigrams and trigrams\n",
    "print(\"Bigrams:\")\n",
    "print(bigram_model)\n",
    "print(\"\\nTrigrams:\")\n",
    "print(trigram_model)\n"
   ]
  },
  {
   "cell_type": "markdown",
   "metadata": {},
   "source": [
    "# Predict Next Word Using Bigram/Trigram Model"
   ]
  },
  {
   "cell_type": "code",
   "execution_count": 9,
   "metadata": {},
   "outputs": [],
   "source": [
    "# Create a default dictionary to store frequencies of bigrams\n",
    "bigram_freq = defaultdict(Counter)\n",
    "\n",
    "for w1, w2 in bigrams(tokens):\n",
    "    bigram_freq[w1][w2] += 1\n",
    "\n",
    "# Create a trigram model with frequency counts\n",
    "trigram_freq = defaultdict(Counter)\n",
    "\n",
    "for w1, w2, w3 in trigrams(tokens):\n",
    "    trigram_freq[(w1, w2)][w3] += 1"
   ]
  },
  {
   "cell_type": "code",
   "execution_count": 10,
   "metadata": {},
   "outputs": [],
   "source": [
    "# Predict the next word using the bigram model\n",
    "def predict_next_word_bigram(prev_word):\n",
    "    next_word = bigram_freq[prev_word].most_common(1)\n",
    "    if next_word:\n",
    "        return next_word[0][0]\n",
    "    return None\n",
    "\n",
    "# Predict the next word using the trigram model\n",
    "def predict_next_word_trigram(w1, w2):\n",
    "    next_word = trigram_freq[(w1, w2)].most_common(1)\n",
    "    if next_word:\n",
    "        return next_word[0][0]\n",
    "    return None"
   ]
  },
  {
   "cell_type": "code",
   "execution_count": 11,
   "metadata": {},
   "outputs": [
    {
     "name": "stdout",
     "output_type": "stream",
     "text": [
      "Bigram prediction for 'machine': learning\n",
      "Trigram prediction for 'machine learning': and\n"
     ]
    }
   ],
   "source": [
    "# Predict the next word\n",
    "print(\"Bigram prediction for 'machine':\", predict_next_word_bigram('machine'))\n",
    "print(\"Trigram prediction for 'machine learning':\", predict_next_word_trigram('machine', 'learning'))"
   ]
  },
  {
   "cell_type": "markdown",
   "metadata": {},
   "source": [
    "# Regular expression to find email addresses within Given Text."
   ]
  },
  {
   "cell_type": "code",
   "execution_count": 14,
   "metadata": {},
   "outputs": [
    {
     "name": "stdout",
     "output_type": "stream",
     "text": [
      "Email addresses: ['contact@domain.com', 'support@domain.com.']\n"
     ]
    }
   ],
   "source": [
    "# Sample text with email addresses\n",
    "text = \"You can reach us at contact@domain.com or support@domain.com.\"\n",
    "\n",
    "# Regular expression to match email addresses\n",
    "email_regex = r'[a-zA-Z0-9_.+-]+@[a-zA-Z0-9-]+\\.[a-zA-Z0-9-.]+'\n",
    "\n",
    "# Find all email addresses\n",
    "emails = re.findall(email_regex, text)\n",
    "\n",
    "print(\"Email addresses:\", emails)\n"
   ]
  }
 ],
 "metadata": {
  "kernelspec": {
   "display_name": "ajay",
   "language": "python",
   "name": "python3"
  },
  "language_info": {
   "codemirror_mode": {
    "name": "ipython",
    "version": 3
   },
   "file_extension": ".py",
   "mimetype": "text/x-python",
   "name": "python",
   "nbconvert_exporter": "python",
   "pygments_lexer": "ipython3",
   "version": "3.10.2"
  }
 },
 "nbformat": 4,
 "nbformat_minor": 2
}
