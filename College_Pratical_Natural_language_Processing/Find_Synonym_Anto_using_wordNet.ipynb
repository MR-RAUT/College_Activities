{
 "cells": [
  {
   "cell_type": "markdown",
   "metadata": {},
   "source": [
    "# 2 Find the synonym /antonym of a word using WordNet.\n"
   ]
  },
  {
   "cell_type": "code",
   "execution_count": null,
   "metadata": {},
   "outputs": [
    {
     "name": "stderr",
     "output_type": "stream",
     "text": [
      "[nltk_data] Downloading package wordnet to\n",
      "[nltk_data]     C:\\Users\\Jaydip\\AppData\\Roaming\\nltk_data...\n",
      "[nltk_data]   Package wordnet is already up-to-date!\n"
     ]
    }
   ],
   "source": [
    "# import library\n",
    "import nltk\n",
    "nltk.download('wordnet')  # Downloads the WordNet corpus\n",
    "from nltk.corpus import wordnet"
   ]
  },
  {
   "cell_type": "code",
   "execution_count": null,
   "metadata": {},
   "outputs": [],
   "source": [
    "# Define a function to get synonyms and antonyms\n",
    "def get_synonyms_antonyms(word):\n",
    "    synonyms = []  # List to store synonyms\n",
    "    antonyms = []  # List to store antonyms\n",
    "\n",
    "    # Get synsets (synonym sets) for the word\n",
    "    for syn in wordnet.synsets(word):\n",
    "        # For each lemma (word) in the synset, append synonyms\n",
    "        for lemma in syn.lemmas():\n",
    "            synonyms.append(lemma.name())\n",
    "            # If the lemma has antonyms, append them\n",
    "            if lemma.antonyms():\n",
    "                antonyms.append(lemma.antonyms()[0].name())\n",
    "\n",
    "    # Return unique synonyms and antonyms\n",
    "    return set(synonyms), set(antonyms)\n"
   ]
  },
  {
   "cell_type": "code",
   "execution_count": null,
   "metadata": {},
   "outputs": [
    {
     "name": "stdout",
     "output_type": "stream",
     "text": [
      "Synonyms of 'happy': {'well-chosen', 'glad', 'happy', 'felicitous'}\n",
      "Antonyms of 'happy': {'unhappy'}\n"
     ]
    }
   ],
   "source": [
    "# Test the function with a sample word\n",
    "word = \"happy\"  # You can change this to any word\n",
    "synonyms, antonyms = get_synonyms_antonyms(word)\n",
    "\n",
    "\n",
    "# Print the results\n",
    "print(f\"Synonyms of '{word}': {synonyms}\")\n",
    "print(f\"Antonyms of '{word}': {antonyms}\")\n"
   ]
  }
 ],
 "metadata": {
  "kernelspec": {
   "display_name": "Python 3",
   "language": "python",
   "name": "python3"
  },
  "language_info": {
   "codemirror_mode": {
    "name": "ipython",
    "version": 3
   },
   "file_extension": ".py",
   "mimetype": "text/x-python",
   "name": "python",
   "nbconvert_exporter": "python",
   "pygments_lexer": "ipython3",
   "version": "3.12.7"
  }
 },
 "nbformat": 4,
 "nbformat_minor": 2
}
