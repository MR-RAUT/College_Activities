{
 "cells": [
  {
   "cell_type": "markdown",
   "metadata": {
    "id": "XrEA3TuwbUV8"
   },
   "source": [
    "# 10 Implement RNN for sequence labelling."
   ]
  },
  {
   "cell_type": "code",
   "execution_count": null,
   "metadata": {
    "id": "8ma_F2bDbUWA"
   },
   "outputs": [],
   "source": [
    "# Import required libraries\n",
    "import numpy as np\n",
    "import pandas as pd\n",
    "from tensorflow.keras.preprocessing.sequence import pad_sequences\n",
    "from tensorflow.keras.utils import to_categorical\n",
    "from tensorflow.keras.layers import Embedding, LSTM, Bidirectional, Dense, TimeDistributed, Input, Dropout\n",
    "from tensorflow.keras.models import Model\n",
    "from sklearn.model_selection import train_test_split\n",
    "from sklearn.preprocessing import LabelEncoder\n"
   ]
  },
  {
   "cell_type": "code",
   "execution_count": null,
   "metadata": {
    "id": "JVy_tj_NbVyc"
   },
   "outputs": [],
   "source": [
    "# Load the Arabic IOB dataset with the correct delimiter\n",
    "df = pd.read_csv(\n",
    "    'data/Arabic_IOB_dataset.csv',\n",
    "    sep=\",\",  # Adjust the delimiter if it's not a comma\n",
    "    header=None,\n",
    "    names=[\"Word i\", \"Word i entity tag\", \"Word i POS\", \"Stopword\"]\n",
    ")"
   ]
  },
  {
   "cell_type": "code",
   "execution_count": 38,
   "metadata": {
    "colab": {
     "base_uri": "https://localhost:8080/"
    },
    "id": "TR9nkX-Ybbuq",
    "outputId": "2e3ad883-dec6-41c8-df6f-b8a5431d2f96"
   },
   "outputs": [
    {
     "name": "stdout",
     "output_type": "stream",
     "text": [
      "Dataset Preview:\n",
      "      Word i  Word i entity tag   Word i POS  Stopword\n",
      "0     Word i  Word i entity tag   Word i POS  Stopword\n",
      "1         إن                  O  verb_pseudo       yes\n",
      "2  اللوكيميا                  B         noun        no\n",
      "3         أو                  O         conj       yes\n",
      "4          (                  O         punc        no\n",
      "\n",
      "Dataset Info:\n",
      "<class 'pandas.core.frame.DataFrame'>\n",
      "RangeIndex: 62507 entries, 0 to 62506\n",
      "Data columns (total 4 columns):\n",
      " #   Column             Non-Null Count  Dtype \n",
      "---  ------             --------------  ----- \n",
      " 0   Word i             62507 non-null  object\n",
      " 1   Word i entity tag  62507 non-null  object\n",
      " 2   Word i POS         62507 non-null  object\n",
      " 3   Stopword           62507 non-null  object\n",
      "dtypes: object(4)\n",
      "memory usage: 1.9+ MB\n",
      "None\n"
     ]
    }
   ],
   "source": [
    "# Display dataset preview and column details\n",
    "print(\"Dataset Preview:\")\n",
    "print(df.head())\n",
    "print(\"\\nDataset Info:\")\n",
    "print(df.info())\n"
   ]
  },
  {
   "cell_type": "code",
   "execution_count": 39,
   "metadata": {
    "id": "9QZTRSEIbgR-"
   },
   "outputs": [],
   "source": [
    "# Drop rows where all columns are NaN (fully empty rows)\n",
    "df = df.dropna(how=\"all\")"
   ]
  },
  {
   "cell_type": "code",
   "execution_count": 40,
   "metadata": {
    "colab": {
     "base_uri": "https://localhost:8080/"
    },
    "id": "5KKSs0xkblTz",
    "outputId": "0a01134d-c07d-4b0b-bf75-0890dfd34776"
   },
   "outputs": [
    {
     "name": "stdout",
     "output_type": "stream",
     "text": [
      "\n",
      "Dataset after cleaning:\n",
      "      Word i  Word i entity tag   Word i POS  Stopword\n",
      "0     Word i  Word i entity tag   Word i POS  Stopword\n",
      "1         إن                  O  verb_pseudo       yes\n",
      "2  اللوكيميا                  B         noun        no\n",
      "3         أو                  O         conj       yes\n",
      "4          (                  O         punc        no\n"
     ]
    }
   ],
   "source": [
    "# Check for rows with valid 'Word i' and 'Word i entity tag'\n",
    "df = df[df[\"Word i\"].notna() & df[\"Word i entity tag\"].notna()]\n",
    "print(\"\\nDataset after cleaning:\")\n",
    "print(df.head())"
   ]
  },
  {
   "cell_type": "code",
   "execution_count": 41,
   "metadata": {
    "id": "DGWgaagkboEJ"
   },
   "outputs": [],
   "source": [
    "# Initialize lists for sentences and labels\n",
    "sentences = []\n",
    "labels = []"
   ]
  },
  {
   "cell_type": "code",
   "execution_count": 42,
   "metadata": {
    "id": "kGC8SrDmqHBF"
   },
   "outputs": [],
   "source": [
    "# Group words and labels into sentences\n",
    "sentence = []\n",
    "label = []\n",
    "for i, row in df.iterrows():\n",
    "    word = row[\"Word i\"]\n",
    "    entity_tag = row[\"Word i entity tag\"]\n",
    "\n",
    "    if word == \".\" or pd.isnull(word):  # End of a sentence\n",
    "        if sentence:  # Append the completed sentence\n",
    "            sentences.append(sentence)\n",
    "            labels.append(label)\n",
    "            sentence = []\n",
    "            label = []\n",
    "    else:\n",
    "        sentence.append(word)\n",
    "        label.append(entity_tag)"
   ]
  },
  {
   "cell_type": "code",
   "execution_count": 43,
   "metadata": {
    "id": "vKnbOBroqP4e"
   },
   "outputs": [],
   "source": [
    "# Append the last sentence if not empty\n",
    "if sentence:\n",
    "    sentences.append(sentence)\n",
    "    labels.append(label)"
   ]
  },
  {
   "cell_type": "code",
   "execution_count": 44,
   "metadata": {
    "colab": {
     "base_uri": "https://localhost:8080/"
    },
    "id": "rTSpKZiXqV5q",
    "outputId": "ef5ca06d-d011-4427-80d6-777722825205"
   },
   "outputs": [
    {
     "name": "stdout",
     "output_type": "stream",
     "text": [
      "\n",
      "First few sentences and labels:\n",
      "Sentence 1: ['Word i', 'إن', 'اللوكيميا', 'أو', '(', 'ابيضاض', 'الدم', ')', 'هو', 'سرطان', 'خلايا', 'الدم', 'البيضاء', ',', 'و', 'خلايا', 'الدم', 'البيضاء', 'تساعد', 'الجسم', 'على', 'محاربة', 'العدوى']\n",
      "Labels 1: ['Word i entity tag', 'O', 'B', 'O', 'O', 'B', 'I', 'O', 'O', 'B', 'I', 'I', 'I', 'O', 'O', 'O', 'O', 'O', 'O', 'O', 'O', 'O', 'O']\n",
      "Sentence 2: ['تتشكل', 'خلايا', 'الدم', 'في', 'نقي', 'العظام', ',', 'أما', 'في', 'اللوكيميا', 'ف', 'يقوم', 'نقي', 'العظام', 'على', 'كل', 'حال', 'ب', 'إنتاج', 'خلايا', 'دم', 'بيضاء', 'غير', 'طبيعية', ',', 'ب', 'حيث', 'تتجمع', 'تلك', 'الخلايا', 'حول', 'خلايا', 'الدم', 'الصحيحة', 'مما', 'يجعل', 'من', 'الصعب', 'أن', 'تقوم', 'هذه', 'الخلايا', 'ب', 'عملها', 'ب', 'شكل', 'عادي']\n",
      "Labels 2: ['O', 'O', 'O', 'O', 'O', 'O', 'O', 'O', 'O', 'B', 'O', 'O', 'O', 'O', 'O', 'O', 'O', 'O', 'O', 'O', 'O', 'O', 'O', 'O', 'O', 'O', 'O', 'O', 'O', 'O', 'O', 'O', 'O', 'O', 'O', 'O', 'O', 'O', 'O', 'O', 'O', 'O', 'O', 'O', 'O', 'O', 'O']\n",
      "Sentence 3: ['هناك', 'أنواع', 'مختلفة', 'من', 'اللوكيميا', ',', 'و', 'تتضمن', 'هذه', 'الأنواع', ':', 'ابيضاض', 'اللمفاويات', 'الحاد', 'الابيضاض', 'النخاعي', 'الحاد', 'ابيضاض', 'اللمفاويات', 'المزمن', 'الابيضاض', 'النخاعي', 'المزمن', 'يمكن', 'ل', 'اللوكيميا', 'أن', 'تتطور', 'ب', 'سرعة', 'أو', 'ب', 'بطء', ',', 'ف', 'اللوكيميا', 'المزمنة', 'تتطور', 'ب', 'بطء', ',', 'أما', 'في', 'اللوكيميا', 'الحادة', 'فتكون', 'الخلايا', 'شاذة', 'جدا', 'عن', 'الوضع', 'الطبيعي', 'و', 'تتزايد', 'أعدادها', 'ب', 'سرعة', 'كبيرة', ',', 'و', 'قد', 'يصاب', 'البالغون', 'ب', 'أي', 'من', 'النوعين', ',', 'أما', 'الأطفال', 'المصابون', 'ب', 'اللوكيميا', 'ف', 'غالبا', 'ما', 'تكون', 'إصابتهم', 'ب', 'اللوكيميا', 'الحادة']\n",
      "Labels 3: ['O', 'O', 'O', 'O', 'B', 'O', 'O', 'O', 'O', 'O', 'O', 'B', 'I', 'I', 'B', 'I', 'I', 'B', 'I', 'I', 'B', 'I', 'I', 'O', 'O', 'B', 'O', 'O', 'O', 'O', 'O', 'O', 'O', 'O', 'O', 'B', 'I', 'O', 'O', 'O', 'O', 'O', 'O', 'B', 'I', 'O', 'O', 'O', 'O', 'O', 'O', 'O', 'O', 'O', 'O', 'O', 'O', 'O', 'O', 'O', 'O', 'O', 'O', 'O', 'O', 'O', 'O', 'O', 'O', 'O', 'O', 'O', 'B', 'O', 'O', 'O', 'O', 'O', 'O', 'B', 'I']\n"
     ]
    }
   ],
   "source": [
    "# Print the first few sentences and labels\n",
    "print(\"\\nFirst few sentences and labels:\")\n",
    "for i in range(min(len(sentences), 3)):\n",
    "    print(f\"Sentence {i+1}: {sentences[i]}\")\n",
    "    print(f\"Labels {i+1}: {labels[i]}\")"
   ]
  },
  {
   "cell_type": "code",
   "execution_count": 45,
   "metadata": {
    "id": "IMyWYj1gqdNS"
   },
   "outputs": [],
   "source": [
    "# Ensure sentences and labels are populated\n",
    "if not sentences or not labels:\n",
    "    raise ValueError(\"No sentences or labels were extracted. Check dataset formatting.\")"
   ]
  },
  {
   "cell_type": "code",
   "execution_count": 46,
   "metadata": {
    "id": "3536HCOYqspu"
   },
   "outputs": [],
   "source": [
    "# Encode words and labels\n",
    "word2idx = {word: i + 1 for i, word in enumerate(set(df[\"Word i\"].values))}\n",
    "label2idx = {label: i for i, label in enumerate(set([item for sublist in labels for item in sublist]))}\n"
   ]
  },
  {
   "cell_type": "code",
   "execution_count": 47,
   "metadata": {
    "id": "jfWlhH_bqxo-"
   },
   "outputs": [],
   "source": [
    "# Encode the words and labels\n",
    "X = [[word2idx.get(word, 0) for word in sent] for sent in sentences]\n",
    "y = [[label2idx[label] for label in lab] for lab in labels]"
   ]
  },
  {
   "cell_type": "code",
   "execution_count": 48,
   "metadata": {
    "id": "nAaET3Wcq2hx"
   },
   "outputs": [],
   "source": [
    "# Pad sequences to the same length\n",
    "max_len = max(len(sent) for sent in sentences)\n",
    "X = pad_sequences(X, maxlen=max_len, padding=\"post\")\n",
    "y = pad_sequences(y, maxlen=max_len, padding=\"post\")\n"
   ]
  },
  {
   "cell_type": "code",
   "execution_count": 49,
   "metadata": {
    "id": "C-VRrpOPq-Xt"
   },
   "outputs": [],
   "source": [
    "# Convert labels to categorical format\n",
    "y = [to_categorical(i, num_classes=len(label2idx)) for i in y]\n"
   ]
  },
  {
   "cell_type": "code",
   "execution_count": 50,
   "metadata": {
    "colab": {
     "base_uri": "https://localhost:8080/"
    },
    "id": "B-ncBrKmrDZG",
    "outputId": "fa3f2acc-802a-4b15-d7bb-8f87cbce0c6f"
   },
   "outputs": [
    {
     "name": "stdout",
     "output_type": "stream",
     "text": [
      "\n",
      "Shape of X (features): (3758, 127)\n",
      "Shape of y (labels): (3758, 127, 4)\n"
     ]
    }
   ],
   "source": [
    "# Check the shapes of X and y\n",
    "print(\"\\nShape of X (features):\", np.array(X).shape)\n",
    "print(\"Shape of y (labels):\", np.array(y).shape)\n"
   ]
  }
 ],
 "metadata": {
  "accelerator": "TPU",
  "colab": {
   "gpuType": "V28",
   "provenance": []
  },
  "kernelspec": {
   "display_name": "base",
   "language": "python",
   "name": "python3"
  },
  "language_info": {
   "name": "python",
   "version": "3.12.7"
  }
 },
 "nbformat": 4,
 "nbformat_minor": 0
}
